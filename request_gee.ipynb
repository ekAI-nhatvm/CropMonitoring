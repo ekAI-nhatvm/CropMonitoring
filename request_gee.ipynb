{
 "cells": [
  {
   "cell_type": "code",
   "execution_count": 1,
   "metadata": {},
   "outputs": [
    {
     "data": {
      "text/html": [
       "<p>To authorize access needed by Earth Engine, open the following\n",
       "        URL in a web browser and follow the instructions:</p>\n",
       "        <p><a href=https://code.earthengine.google.com/client-auth?scopes=https%3A//www.googleapis.com/auth/earthengine%20https%3A//www.googleapis.com/auth/cloud-platform%20https%3A//www.googleapis.com/auth/devstorage.full_control&request_id=bNTUfA17CKtvrN0JjOTdyDd2R6ba2uehBUAeJZW1YMQ&tc=Pn48S2tGLLe2WPJ3ZzECrEZ72yjRtOrDz87KCR3N2ag&cc=jiPgn2OWt1T0m20WA-_OYefbkt4kmRi63hnpY8IDB-o>https://code.earthengine.google.com/client-auth?scopes=https%3A//www.googleapis.com/auth/earthengine%20https%3A//www.googleapis.com/auth/cloud-platform%20https%3A//www.googleapis.com/auth/devstorage.full_control&request_id=bNTUfA17CKtvrN0JjOTdyDd2R6ba2uehBUAeJZW1YMQ&tc=Pn48S2tGLLe2WPJ3ZzECrEZ72yjRtOrDz87KCR3N2ag&cc=jiPgn2OWt1T0m20WA-_OYefbkt4kmRi63hnpY8IDB-o</a></p>\n",
       "        <p>The authorization workflow will generate a code, which you should paste in the box below.</p>\n",
       "        "
      ],
      "text/plain": [
       "<IPython.core.display.HTML object>"
      ]
     },
     "metadata": {},
     "output_type": "display_data"
    },
    {
     "name": "stdout",
     "output_type": "stream",
     "text": [
      "\n",
      "Successfully saved authorization token.\n",
      "Authenticated and initialized successfully!\n"
     ]
    }
   ],
   "source": [
    "import ee\n",
    "\n",
    "ee.Authenticate()\n",
    "ee.Initialize()\n",
    "print(\"Authenticated and initialized successfully!\")"
   ]
  },
  {
   "cell_type": "code",
   "execution_count": 2,
   "metadata": {},
   "outputs": [],
   "source": [
    "import json"
   ]
  },
  {
   "cell_type": "code",
   "execution_count": 5,
   "metadata": {},
   "outputs": [
    {
     "name": "stderr",
     "output_type": "stream",
     "text": [
      "<>:1: SyntaxWarning: invalid escape sequence '\\E'\n",
      "<>:1: SyntaxWarning: invalid escape sequence '\\E'\n",
      "C:\\Users\\Dat\\AppData\\Local\\Temp\\ipykernel_13280\\1544807805.py:1: SyntaxWarning: invalid escape sequence '\\E'\n",
      "  with open(\"E:\\EK_Intern\\CropMonitoring\\\\api\\cfg\\json\\dakya.json\") as f:\n"
     ]
    }
   ],
   "source": [
    "with open(\"E:\\EK_Intern\\CropMonitoring\\\\api\\cfg\\json\\dakya.json\") as f:\n",
    "    dakya = json.load(f)"
   ]
  },
  {
   "cell_type": "code",
   "execution_count": 6,
   "metadata": {},
   "outputs": [],
   "source": [
    "geometry = ee.Geometry(dakya)"
   ]
  },
  {
   "cell_type": "code",
   "execution_count": 19,
   "metadata": {},
   "outputs": [],
   "source": [
    "START_DATE = '2020-01-01'\n",
    "END_DATE = '2020-02-01'\n",
    "CLOUD_FILTER = 60\n",
    "CLD_PRB_THRESH = 30\n",
    "NIR_DRK_THRESH = 0.15\n",
    "CLD_PRJ_DIST = 1\n",
    "BUFFER = 50"
   ]
  },
  {
   "cell_type": "code",
   "execution_count": 20,
   "metadata": {},
   "outputs": [],
   "source": [
    "def add_cloud_bands(img):\n",
    "    # Get s2cloudless image, subset the probability band.\n",
    "    cld_prb = ee.Image(img.get('s2cloudless')).select('probability')\n",
    "\n",
    "    # Condition s2cloudless by the probability threshold value.\n",
    "    is_cloud = cld_prb.gt(CLD_PRB_THRESH).rename('clouds')\n",
    "\n",
    "    # Add the cloud probability layer and cloud mask as image bands.\n",
    "    return img.addBands(ee.Image([cld_prb, is_cloud]))"
   ]
  },
  {
   "cell_type": "code",
   "execution_count": 21,
   "metadata": {},
   "outputs": [],
   "source": [
    "def get_s2_sr_cld_col(aoi, start_date, end_date):\n",
    "    # Import and filter S2 SR.\n",
    "    s2_sr_col = (ee.ImageCollection('COPERNICUS/S2_SR')\n",
    "        .filterBounds(aoi)\n",
    "        .filterDate(start_date, end_date)\n",
    "        .filter(ee.Filter.lte('CLOUDY_PIXEL_PERCENTAGE', CLOUD_FILTER)))\n",
    "\n",
    "    # Import and filter s2cloudless.\n",
    "    s2_cloudless_col = (ee.ImageCollection('COPERNICUS/S2_CLOUD_PROBABILITY')\n",
    "        .filterBounds(aoi)\n",
    "        .filterDate(start_date, end_date))\n",
    "\n",
    "    # Join the filtered s2cloudless collection to the SR collection by the 'system:index' property.\n",
    "    return ee.ImageCollection(ee.Join.saveFirst('s2cloudless').apply(**{\n",
    "        'primary': s2_sr_col,\n",
    "        'secondary': s2_cloudless_col,\n",
    "        'condition': ee.Filter.equals(**{\n",
    "            'leftField': 'system:index',\n",
    "            'rightField': 'system:index'\n",
    "        })\n",
    "    }))"
   ]
  },
  {
   "cell_type": "code",
   "execution_count": 22,
   "metadata": {},
   "outputs": [],
   "source": [
    "def add_shadow_bands(img):\n",
    "    # Identify water pixels from the SCL band.\n",
    "    not_water = img.select('SCL').neq(6)\n",
    "\n",
    "    # Identify dark NIR pixels that are not water (potential cloud shadow pixels).\n",
    "    SR_BAND_SCALE = 1e4\n",
    "    dark_pixels = img.select('B8').lt(NIR_DRK_THRESH*SR_BAND_SCALE).multiply(not_water).rename('dark_pixels')\n",
    "\n",
    "    # Determine the direction to project cloud shadow from clouds (assumes UTM projection).\n",
    "    shadow_azimuth = ee.Number(90).subtract(ee.Number(img.get('MEAN_SOLAR_AZIMUTH_ANGLE')));\n",
    "\n",
    "    # Project shadows from clouds for the distance specified by the CLD_PRJ_DIST input.\n",
    "    cld_proj = (img.select('clouds').directionalDistanceTransform(shadow_azimuth, CLD_PRJ_DIST*10)\n",
    "        .reproject(**{'crs': img.select(0).projection(), 'scale': 100})\n",
    "        .select('distance')\n",
    "        .mask()\n",
    "        .rename('cloud_transform'))\n",
    "\n",
    "    # Identify the intersection of dark pixels with cloud shadow projection.\n",
    "    shadows = cld_proj.multiply(dark_pixels).rename('shadows')\n",
    "\n",
    "    # Add dark pixels, cloud projection, and identified shadows as image bands.\n",
    "    return img.addBands(ee.Image([dark_pixels, cld_proj, shadows]))"
   ]
  },
  {
   "cell_type": "code",
   "execution_count": 23,
   "metadata": {},
   "outputs": [],
   "source": [
    "s2_sr_cld_col_eval = get_s2_sr_cld_col(geometry, START_DATE, END_DATE)"
   ]
  },
  {
   "cell_type": "code",
   "execution_count": 24,
   "metadata": {},
   "outputs": [
    {
     "name": "stdout",
     "output_type": "stream",
     "text": [
      "Number of images in the collection: 24\n"
     ]
    }
   ],
   "source": [
    "# Load a Sentinel-2 L2A image collection for the area defined by the bounding box\n",
    "sentinel2_collection = ee.ImageCollection('COPERNICUS/S2_SR')\\\n",
    "                        .filterBounds(geometry)\\\n",
    "                        .filterDate('2020-01-01', '2020-03-01')\\\n",
    "                 \n",
    "                        \n",
    "# Get the number of images in the collection\n",
    "image_count = sentinel2_collection.size().getInfo()\n",
    "print(f\"Number of images in the collection: {image_count}\")\n",
    "\n",
    "# Convert the image collection to a list for iteration\n",
    "image_list = sentinel2_collection.toList(image_count)"
   ]
  },
  {
   "cell_type": "code",
   "execution_count": 25,
   "metadata": {},
   "outputs": [
    {
     "name": "stderr",
     "output_type": "stream",
     "text": [
      "<>:19: SyntaxWarning: invalid escape sequence '\\E'\n",
      "<>:19: SyntaxWarning: invalid escape sequence '\\E'\n",
      "C:\\Users\\Dat\\AppData\\Local\\Temp\\ipykernel_13280\\1571650808.py:19: SyntaxWarning: invalid escape sequence '\\E'\n",
      "  folder = 'E:\\EK_Intern\\CropMonitoring\\\\api\\\\assests'\n",
      "Downloading Image:   4%|▍         | 1/24 [00:01<00:30,  1.30s/it]"
     ]
    },
    {
     "name": "stdout",
     "output_type": "stream",
     "text": [
      "Image 1 saved locally as E:\\EK_Intern\\CropMonitoring\\api\\assests\\tests_img\\sentinel2_image_1.tif\n"
     ]
    },
    {
     "name": "stderr",
     "output_type": "stream",
     "text": [
      "Downloading Image:   8%|▊         | 2/24 [00:03<00:38,  1.75s/it]"
     ]
    },
    {
     "name": "stdout",
     "output_type": "stream",
     "text": [
      "Image 2 saved locally as E:\\EK_Intern\\CropMonitoring\\api\\assests\\tests_img\\sentinel2_image_2.tif\n"
     ]
    },
    {
     "name": "stderr",
     "output_type": "stream",
     "text": [
      "Downloading Image:  12%|█▎        | 3/24 [00:04<00:35,  1.67s/it]"
     ]
    },
    {
     "name": "stdout",
     "output_type": "stream",
     "text": [
      "Image 3 saved locally as E:\\EK_Intern\\CropMonitoring\\api\\assests\\tests_img\\sentinel2_image_3.tif\n"
     ]
    },
    {
     "name": "stderr",
     "output_type": "stream",
     "text": [
      "Downloading Image:  17%|█▋        | 4/24 [00:12<01:21,  4.06s/it]"
     ]
    },
    {
     "name": "stdout",
     "output_type": "stream",
     "text": [
      "Image 4 saved locally as E:\\EK_Intern\\CropMonitoring\\api\\assests\\tests_img\\sentinel2_image_4.tif\n"
     ]
    },
    {
     "name": "stderr",
     "output_type": "stream",
     "text": [
      "Downloading Image:  21%|██        | 5/24 [00:14<01:01,  3.23s/it]"
     ]
    },
    {
     "name": "stdout",
     "output_type": "stream",
     "text": [
      "Image 5 saved locally as E:\\EK_Intern\\CropMonitoring\\api\\assests\\tests_img\\sentinel2_image_5.tif\n"
     ]
    },
    {
     "name": "stderr",
     "output_type": "stream",
     "text": [
      "Downloading Image:  25%|██▌       | 6/24 [00:15<00:46,  2.58s/it]"
     ]
    },
    {
     "name": "stdout",
     "output_type": "stream",
     "text": [
      "Image 6 saved locally as E:\\EK_Intern\\CropMonitoring\\api\\assests\\tests_img\\sentinel2_image_6.tif\n"
     ]
    },
    {
     "name": "stderr",
     "output_type": "stream",
     "text": [
      "Downloading Image:  29%|██▉       | 7/24 [00:17<00:38,  2.26s/it]"
     ]
    },
    {
     "name": "stdout",
     "output_type": "stream",
     "text": [
      "Image 7 saved locally as E:\\EK_Intern\\CropMonitoring\\api\\assests\\tests_img\\sentinel2_image_7.tif\n"
     ]
    },
    {
     "name": "stderr",
     "output_type": "stream",
     "text": [
      "Downloading Image:  33%|███▎      | 8/24 [00:20<00:38,  2.40s/it]"
     ]
    },
    {
     "name": "stdout",
     "output_type": "stream",
     "text": [
      "Image 8 saved locally as E:\\EK_Intern\\CropMonitoring\\api\\assests\\tests_img\\sentinel2_image_8.tif\n"
     ]
    },
    {
     "name": "stderr",
     "output_type": "stream",
     "text": [
      "Downloading Image:  38%|███▊      | 9/24 [00:22<00:35,  2.40s/it]"
     ]
    },
    {
     "name": "stdout",
     "output_type": "stream",
     "text": [
      "Image 9 saved locally as E:\\EK_Intern\\CropMonitoring\\api\\assests\\tests_img\\sentinel2_image_9.tif\n"
     ]
    },
    {
     "name": "stderr",
     "output_type": "stream",
     "text": [
      "Downloading Image:  42%|████▏     | 10/24 [00:24<00:31,  2.25s/it]"
     ]
    },
    {
     "name": "stdout",
     "output_type": "stream",
     "text": [
      "Image 10 saved locally as E:\\EK_Intern\\CropMonitoring\\api\\assests\\tests_img\\sentinel2_image_10.tif\n"
     ]
    },
    {
     "name": "stderr",
     "output_type": "stream",
     "text": [
      "Downloading Image:  46%|████▌     | 11/24 [00:26<00:26,  2.06s/it]"
     ]
    },
    {
     "name": "stdout",
     "output_type": "stream",
     "text": [
      "Image 11 saved locally as E:\\EK_Intern\\CropMonitoring\\api\\assests\\tests_img\\sentinel2_image_11.tif\n"
     ]
    },
    {
     "name": "stderr",
     "output_type": "stream",
     "text": [
      "Downloading Image:  50%|█████     | 12/24 [00:28<00:28,  2.34s/it]"
     ]
    },
    {
     "name": "stdout",
     "output_type": "stream",
     "text": [
      "Image 12 saved locally as E:\\EK_Intern\\CropMonitoring\\api\\assests\\tests_img\\sentinel2_image_12.tif\n"
     ]
    },
    {
     "name": "stderr",
     "output_type": "stream",
     "text": [
      "Downloading Image:  54%|█████▍    | 13/24 [00:31<00:25,  2.34s/it]"
     ]
    },
    {
     "name": "stdout",
     "output_type": "stream",
     "text": [
      "Image 13 saved locally as E:\\EK_Intern\\CropMonitoring\\api\\assests\\tests_img\\sentinel2_image_13.tif\n"
     ]
    },
    {
     "name": "stderr",
     "output_type": "stream",
     "text": [
      "Downloading Image:  58%|█████▊    | 14/24 [00:34<00:24,  2.47s/it]"
     ]
    },
    {
     "name": "stdout",
     "output_type": "stream",
     "text": [
      "Image 14 saved locally as E:\\EK_Intern\\CropMonitoring\\api\\assests\\tests_img\\sentinel2_image_14.tif\n"
     ]
    },
    {
     "name": "stderr",
     "output_type": "stream",
     "text": [
      "Downloading Image:  62%|██████▎   | 15/24 [00:36<00:20,  2.32s/it]"
     ]
    },
    {
     "name": "stdout",
     "output_type": "stream",
     "text": [
      "Image 15 saved locally as E:\\EK_Intern\\CropMonitoring\\api\\assests\\tests_img\\sentinel2_image_15.tif\n"
     ]
    },
    {
     "name": "stderr",
     "output_type": "stream",
     "text": [
      "Downloading Image:  67%|██████▋   | 16/24 [00:42<00:27,  3.46s/it]"
     ]
    },
    {
     "name": "stdout",
     "output_type": "stream",
     "text": [
      "Image 16 saved locally as E:\\EK_Intern\\CropMonitoring\\api\\assests\\tests_img\\sentinel2_image_16.tif\n"
     ]
    },
    {
     "name": "stderr",
     "output_type": "stream",
     "text": [
      "Downloading Image:  71%|███████   | 17/24 [00:43<00:20,  2.86s/it]"
     ]
    },
    {
     "name": "stdout",
     "output_type": "stream",
     "text": [
      "Image 17 saved locally as E:\\EK_Intern\\CropMonitoring\\api\\assests\\tests_img\\sentinel2_image_17.tif\n"
     ]
    },
    {
     "name": "stderr",
     "output_type": "stream",
     "text": [
      "Downloading Image:  75%|███████▌  | 18/24 [00:46<00:16,  2.72s/it]"
     ]
    },
    {
     "name": "stdout",
     "output_type": "stream",
     "text": [
      "Image 18 saved locally as E:\\EK_Intern\\CropMonitoring\\api\\assests\\tests_img\\sentinel2_image_18.tif\n"
     ]
    },
    {
     "name": "stderr",
     "output_type": "stream",
     "text": [
      "Downloading Image:  79%|███████▉  | 19/24 [00:48<00:12,  2.57s/it]"
     ]
    },
    {
     "name": "stdout",
     "output_type": "stream",
     "text": [
      "Image 19 saved locally as E:\\EK_Intern\\CropMonitoring\\api\\assests\\tests_img\\sentinel2_image_19.tif\n"
     ]
    },
    {
     "name": "stderr",
     "output_type": "stream",
     "text": [
      "Downloading Image:  83%|████████▎ | 20/24 [00:49<00:08,  2.23s/it]"
     ]
    },
    {
     "name": "stdout",
     "output_type": "stream",
     "text": [
      "Image 20 saved locally as E:\\EK_Intern\\CropMonitoring\\api\\assests\\tests_img\\sentinel2_image_20.tif\n"
     ]
    },
    {
     "name": "stderr",
     "output_type": "stream",
     "text": [
      "Downloading Image:  88%|████████▊ | 21/24 [00:52<00:06,  2.31s/it]"
     ]
    },
    {
     "name": "stdout",
     "output_type": "stream",
     "text": [
      "Image 21 saved locally as E:\\EK_Intern\\CropMonitoring\\api\\assests\\tests_img\\sentinel2_image_21.tif\n"
     ]
    },
    {
     "name": "stderr",
     "output_type": "stream",
     "text": [
      "Downloading Image:  92%|█████████▏| 22/24 [00:53<00:04,  2.08s/it]"
     ]
    },
    {
     "name": "stdout",
     "output_type": "stream",
     "text": [
      "Image 22 saved locally as E:\\EK_Intern\\CropMonitoring\\api\\assests\\tests_img\\sentinel2_image_22.tif\n"
     ]
    },
    {
     "name": "stderr",
     "output_type": "stream",
     "text": [
      "Downloading Image:  96%|█████████▌| 23/24 [00:57<00:02,  2.44s/it]"
     ]
    },
    {
     "name": "stdout",
     "output_type": "stream",
     "text": [
      "Image 23 saved locally as E:\\EK_Intern\\CropMonitoring\\api\\assests\\tests_img\\sentinel2_image_23.tif\n"
     ]
    },
    {
     "name": "stderr",
     "output_type": "stream",
     "text": [
      "Downloading Image: 100%|██████████| 24/24 [00:58<00:00,  2.44s/it]"
     ]
    },
    {
     "name": "stdout",
     "output_type": "stream",
     "text": [
      "Image 24 saved locally as E:\\EK_Intern\\CropMonitoring\\api\\assests\\tests_img\\sentinel2_image_24.tif\n"
     ]
    },
    {
     "name": "stderr",
     "output_type": "stream",
     "text": [
      "\n"
     ]
    }
   ],
   "source": [
    "import requests\n",
    "import os\n",
    "from tqdm import tqdm\n",
    "\n",
    "for i in tqdm(range(image_count), desc=\"Downloading Image\"):\n",
    "    # Select the i-th image from the list\n",
    "    image = ee.Image(image_list.get(i)).clip(geometry)\n",
    "\n",
    "    # Request a download URL for the image (RGB + NIR bands)\n",
    "    download_url = image.select(['B4', 'B3', 'B2', 'B8']).getDownloadURL({\n",
    "        'scale': 10,  # Resolution in meters\n",
    "        'region': geometry,  # Region as GeoJSON\n",
    "        'format': 'GeoTIFF'\n",
    "    })\n",
    "\n",
    "    # Download the image from the URL\n",
    "    response = requests.get(download_url)\n",
    "\n",
    "    folder = 'E:\\EK_Intern\\CropMonitoring\\\\api\\\\assests'\n",
    "    \n",
    "    if not os.path.exists(f'{folder}\\\\tests_img'):\n",
    "        os.makedirs(f'{folder}\\\\tests_img')\n",
    "        \n",
    "    image_filename = f\"{folder}\\\\tests_img\\\\sentinel2_image_{i+1}.tif\"\n",
    "    \n",
    "    with open(image_filename, 'wb') as f:\n",
    "        f.write(response.content)\n",
    "    \n",
    "    #print(f\"Image {i+1} saved locally as {image_filename}\")"
   ]
  },
  {
   "cell_type": "code",
   "execution_count": 2,
   "metadata": {},
   "outputs": [
    {
     "data": {
      "image/png": "[encoded data removed]",
      "text/plain": [
       "<Figure size 640x480 with 1 Axes>"
      ]
     },
     "metadata": {},
     "output_type": "display_data"
    }
   ],
   "source": [
    "import rasterio\n",
    "import matplotlib.pyplot as plt\n",
    "\n",
    "# Open the TIFF file with rasterio\n",
    "with rasterio.open(r'E:/EK_Intern/CropMonitoring/api/assests/tests_img/sentinel2_image_10.tif') as src:\n",
    "    # Read the first band (assuming a multi-band image, you can choose which bands to read)\n",
    "    band1 = src.read(1)\n",
    "\n",
    "# Display the first band\n",
    "plt.imshow(band1, cmap='gray')  # Use cmap='gray' for grayscale display\n",
    "plt.axis('off')\n",
    "plt.show()\n",
    "\n"
   ]
  },
  {
   "cell_type": "code",
   "execution_count": null,
   "metadata": {},
   "outputs": [],
   "source": []
  }
 ],
 "metadata": {
  "kernelspec": {
   "display_name": "ekai",
   "language": "python",
   "name": "python3"
  },
  "language_info": {
   "codemirror_mode": {
    "name": "ipython",
    "version": 3
   },
   "file_extension": ".py",
   "mimetype": "text/x-python",
   "name": "python",
   "nbconvert_exporter": "python",
   "pygments_lexer": "ipython3",
   "version": "3.12.5"
  }
 },
 "nbformat": 4,
 "nbformat_minor": 2
}
